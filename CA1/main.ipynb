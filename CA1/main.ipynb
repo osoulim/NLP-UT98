{
 "cells": [
  {
   "cell_type": "code",
   "execution_count": 2,
   "outputs": [],
   "source": [
    "from hazm import Normalizer, sent_tokenize, word_tokenize\n",
    "import glob\n",
    "normalizer = Normalizer()\n"
   ],
   "metadata": {
    "collapsed": false,
    "pycharm": {
     "name": "#%%\n",
     "is_executing": false
    }
   }
  },
  {
   "cell_type": "code",
   "execution_count": 3,
   "outputs": [],
   "source": [
    "class News:\n",
    "    def __init__(self, text, index):\n",
    "        self.index = index\n",
    "        self.normalized_text = normalizer.normalize(text)\n",
    "        self.sentences = [word_tokenize(sent) for sent in sent_tokenize(self.normalized_text)]\n",
    "        self.letter_sentences = [list(sent) for sent in sent_tokenize(self.normalized_text)]\n",
    "        "
   ],
   "metadata": {
    "collapsed": false,
    "pycharm": {
     "name": "#%%\n",
     "is_executing": false
    }
   }
  },
  {
   "cell_type": "code",
   "execution_count": 4,
   "outputs": [],
   "source": [
    "categories = ('culture', 'finance', 'politic', 'social', 'sport', 'technology')\n",
    "data = dict()\n",
    "\n",
    "for category in categories:\n",
    "    data[category] = dict()    \n",
    "    for file in glob.glob('data/train/%s/*.txt' % category):\n",
    "        news_id = file.split('/')[3].split('.')[0]\n",
    "        news = open(file).read()\n",
    "        data[category][news_id] = News(news, news_id)\n",
    "        "
   ],
   "metadata": {
    "collapsed": false,
    "pycharm": {
     "name": "#%%\n",
     "is_executing": false
    }
   }
  },
  {
   "cell_type": "code",
   "execution_count": 5,
   "outputs": [],
   "source": [
    "import random\n",
    "\n",
    "training_data = dict()\n",
    "validation_data = dict()\n",
    "\n",
    "for category in data.keys():\n",
    "    shuffled_data = list(data[category].values())\n",
    "    random.shuffle(shuffled_data)\n",
    "    cut_index = int(len(shuffled_data) * 0.8)\n",
    "    training_data[category] = shuffled_data[0:cut_index]\n",
    "    validation_data[category] = shuffled_data[cut_index:]\n"
   ],
   "metadata": {
    "collapsed": false,
    "pycharm": {
     "name": "#%%\n",
     "is_executing": false
    }
   }
  },
  {
   "cell_type": "code",
   "execution_count": 68,
   "outputs": [],
   "source": [
    "from nltk.lm.models import WittenBellInterpolated, MLE\n",
    "from nltk.lm.preprocessing import padded_everygram_pipeline, flatten\n",
    "from nltk.lm import NgramCounter\n",
    "\n",
    "word_unigram_models = dict()\n",
    "word_bigram_models = dict()\n",
    "\n",
    "for category in categories:\n",
    "    text = [sentence for news in training_data[category] for sentence in news.sentences]\n",
    "    \n",
    "    train, vocab = padded_everygram_pipeline(1, text)\n",
    "    \n",
    "    word_unigram_models[category] = WittenBellInterpolated(1)\n",
    "    word_unigram_models[category].fit(train, vocab)\n",
    "\n",
    "    train, vocab = padded_everygram_pipeline(2, text)\n",
    "    word_bigram_models[category] = WittenBellInterpolated(2)\n",
    "    word_bigram_models[category].fit(train, vocab)"
   ],
   "metadata": {
    "collapsed": false,
    "pycharm": {
     "name": "#%%\n",
     "is_executing": false
    }
   }
  },
  {
   "cell_type": "code",
   "execution_count": 7,
   "outputs": [],
   "source": [
    "letter_unigram_models = dict()\n",
    "letter_bigrams_models = dict()\n",
    "for category in categories:\n",
    "    text = [sentence for news in training_data[category] for sentence in news.letter_sentences]\n",
    "    \n",
    "    train, vocab = padded_everygram_pipeline(1, text)\n",
    "    letter_unigram_models[category] = MLE(1)\n",
    "    letter_unigram_models[category].fit(train, vocab)\n",
    "\n",
    "    train, vocab = padded_everygram_pipeline(2, text)\n",
    "    letter_bigrams_models[category] = MLE(2)\n",
    "    letter_bigrams_models[category].fit(train, vocab)\n",
    "\n"
   ],
   "metadata": {
    "collapsed": false,
    "pycharm": {
     "name": "#%%\n",
     "is_executing": false
    }
   }
  },
  {
   "cell_type": "code",
   "execution_count": 72,
   "outputs": [],
   "source": [
    "from nltk import ngrams\n",
    "\n",
    "res = dict()\n",
    "news = validation_data['culture'][0]\n",
    "for category in categories:\n",
    "    test = [ngram for sentence in news.sentences for ngram in ngrams(sentence, 2)]\n",
    "    res[category] = word_bigram_models[category].entropy(test)\n"
   ],
   "metadata": {
    "collapsed": false,
    "pycharm": {
     "name": "#%%\n",
     "is_executing": false
    }
   }
  }
 ],
 "metadata": {
  "kernelspec": {
   "display_name": "Python 3",
   "language": "python",
   "name": "python3"
  },
  "language_info": {
   "codemirror_mode": {
    "name": "ipython",
    "version": 2
   },
   "file_extension": ".py",
   "mimetype": "text/x-python",
   "name": "python",
   "nbconvert_exporter": "python",
   "pygments_lexer": "ipython2",
   "version": "2.7.6"
  },
  "pycharm": {
   "stem_cell": {
    "cell_type": "raw",
    "source": [],
    "metadata": {
     "collapsed": false
    }
   }
  }
 },
 "nbformat": 4,
 "nbformat_minor": 0
}
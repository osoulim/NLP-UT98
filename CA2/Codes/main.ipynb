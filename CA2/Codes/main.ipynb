{
 "cells": [
  {
   "cell_type": "code",
   "execution_count": 1,
   "metadata": {
    "collapsed": true,
    "pycharm": {
     "is_executing": false
    }
   },
   "outputs": [
    {
     "name": "stderr",
     "text": [
      "[nltk_data] Downloading package movie_reviews to\n",
      "[nltk_data]     /home/mamzi/nltk_data...\n",
      "[nltk_data]   Package movie_reviews is already up-to-date!\n",
      "[nltk_data] Downloading package stopwords to /home/mamzi/nltk_data...\n",
      "[nltk_data]   Package stopwords is already up-to-date!\n"
     ],
     "output_type": "stream"
    },
    {
     "data": {
      "text/plain": "True"
     },
     "metadata": {},
     "output_type": "execute_result",
     "execution_count": 1
    }
   ],
   "source": [
    "import nltk\n",
    "nltk.download('movie_reviews')\n",
    "nltk.download('stopwords')"
   ]
  },
  {
   "cell_type": "code",
   "execution_count": 2,
   "outputs": [],
   "source": [
    "from nltk.corpus import movie_reviews, stopwords\n",
    "import string\n",
    "import random\n",
    "\n",
    "reviews = []\n",
    "for category in movie_reviews.categories():\n",
    "    for file_id in movie_reviews.fileids(category):\n",
    "        reviews.append((movie_reviews.words(file_id), category))\n",
    "\n",
    "random.shuffle(reviews)"
   ],
   "metadata": {
    "collapsed": false,
    "pycharm": {
     "name": "#%%\n",
     "is_executing": false
    }
   }
  },
  {
   "cell_type": "code",
   "execution_count": 3,
   "outputs": [],
   "source": [
    "words_bag = list(map(str.lower, movie_reviews.words()))\n",
    "\n",
    "english_stopwords = stopwords.words('english')\n",
    "english_punctuations = list(string.punctuation)\n",
    "remove_words = english_stopwords + english_punctuations\n",
    "\n",
    "words_bag = [word for word in words_bag if word not in remove_words]"
   ],
   "metadata": {
    "collapsed": false,
    "pycharm": {
     "name": "#%%\n",
     "is_executing": false
    }
   }
  },
  {
   "cell_type": "code",
   "execution_count": 4,
   "outputs": [],
   "source": [
    "from nltk import FreqDist\n",
    "words_frequency = FreqDist(words_bag)\n",
    "common_words = words_frequency.most_common(1000)\n",
    "feature_words = [word for word, freq in common_words]\n"
   ],
   "metadata": {
    "collapsed": false,
    "pycharm": {
     "name": "#%%\n",
     "is_executing": false
    }
   }
  },
  {
   "cell_type": "code",
   "execution_count": 5,
   "outputs": [],
   "source": [
    "def get_review_features(review):\n",
    "    review_words = set([word.lower() for word in review])\n",
    "    features = {}\n",
    "    for word in feature_words:\n",
    "        features[word] = (word in review_words)\n",
    "    return features\n",
    "\n",
    "review_features = [(get_review_features(rev), category) for rev, category in reviews]"
   ],
   "metadata": {
    "collapsed": false,
    "pycharm": {
     "name": "#%%\n",
     "is_executing": false
    }
   }
  },
  {
   "cell_type": "code",
   "execution_count": 6,
   "outputs": [],
   "source": [
    "from sklearn.model_selection import KFold\n",
    "from nltk import NaiveBayesClassifier\n",
    "from nltk.metrics.scores import recall, precision, f_measure\n",
    "from nltk.classify import accuracy\n",
    "\n",
    "kf = KFold(n_splits=5)\n",
    "results = []\n",
    "for train_index, test_index in kf.split(review_features):\n",
    "    train_set = [review_features[i] for i in train_index]\n",
    "    test_set = [review_features[i] for i in test_index]\n",
    "    \n",
    "    classifier = NaiveBayesClassifier.train(train_set)\n",
    "    ref_sets = {'pos': set(), 'neg': set()}\n",
    "    test_sets = {'pos': set(), 'neg': set()}\n",
    "\n",
    "    for i, (feats, label) in enumerate(test_set):\n",
    "        ref_sets[label].add(i)\n",
    "        observed = classifier.classify(feats)\n",
    "        test_sets[observed].add(i)\n",
    "    \n",
    "    res = dict()\n",
    "    \n",
    "    res['pos_precision'] = precision(ref_sets['pos'], test_sets['pos'])\n",
    "    res['neg_precision'] = precision(ref_sets['neg'], test_sets['neg'])\n",
    "    \n",
    "    res['pos_recall'] = recall(ref_sets['pos'], test_sets['pos'])\n",
    "    res['neg_recall'] = recall(ref_sets['neg'], test_sets['neg'])\n",
    "    \n",
    "    res['pos_f_measure'] = f_measure(ref_sets['pos'], test_sets['pos'])\n",
    "    res['neg_f_measure'] = f_measure(ref_sets['neg'], test_sets['neg'])\n",
    "     \n",
    "    res['accuracy'] = accuracy(classifier, test_set)\n",
    "    \n",
    "    res['classifier'] = classifier\n",
    "    \n",
    "    results.append(res)\n"
   ],
   "metadata": {
    "collapsed": false,
    "pycharm": {
     "name": "#%%\n",
     "is_executing": false
    }
   }
  },
  {
   "cell_type": "code",
   "execution_count": 8,
   "outputs": [
    {
     "name": "stdout",
     "text": [
      "Most Informative Features\n",
      "              ridiculous = True              neg : pos    =      5.1 : 1.0\n",
      "                   awful = True              neg : pos    =      4.7 : 1.0\n",
      "                   waste = True              neg : pos    =      4.6 : 1.0\n",
      "                   worst = True              neg : pos    =      4.6 : 1.0\n",
      "               memorable = True              pos : neg    =      4.3 : 1.0\n",
      "                  stupid = True              neg : pos    =      3.9 : 1.0\n",
      "                    dull = True              neg : pos    =      3.7 : 1.0\n",
      "                  subtle = True              pos : neg    =      3.6 : 1.0\n",
      "                    mess = True              neg : pos    =      3.4 : 1.0\n",
      "                  boring = True              neg : pos    =      3.3 : 1.0\n",
      "None\n",
      "Most Informative Features\n",
      "                   waste = True              neg : pos    =      5.3 : 1.0\n",
      "              ridiculous = True              neg : pos    =      4.8 : 1.0\n",
      "                   awful = True              neg : pos    =      4.5 : 1.0\n",
      "                   worst = True              neg : pos    =      4.2 : 1.0\n",
      "                    mess = True              neg : pos    =      4.1 : 1.0\n",
      "                    dull = True              neg : pos    =      3.9 : 1.0\n",
      "                  boring = True              neg : pos    =      3.8 : 1.0\n",
      "                  stupid = True              neg : pos    =      3.8 : 1.0\n",
      "               spielberg = True              pos : neg    =      3.7 : 1.0\n",
      "               excellent = True              pos : neg    =      3.7 : 1.0\n",
      "None\n",
      "Most Informative Features\n",
      "                   awful = True              neg : pos    =      5.8 : 1.0\n",
      "                   waste = True              neg : pos    =      4.9 : 1.0\n",
      "              ridiculous = True              neg : pos    =      4.3 : 1.0\n",
      "                    dull = True              neg : pos    =      4.1 : 1.0\n",
      "                   worst = True              neg : pos    =      3.9 : 1.0\n",
      "                  subtle = True              pos : neg    =      3.8 : 1.0\n",
      "                terrible = True              neg : pos    =      3.7 : 1.0\n",
      "                  stupid = True              neg : pos    =      3.7 : 1.0\n",
      "               memorable = True              pos : neg    =      3.6 : 1.0\n",
      "               excellent = True              pos : neg    =      3.6 : 1.0\n",
      "None\n",
      "Most Informative Features\n",
      "                   waste = True              neg : pos    =      4.9 : 1.0\n",
      "                   awful = True              neg : pos    =      4.8 : 1.0\n",
      "              ridiculous = True              neg : pos    =      4.5 : 1.0\n",
      "                   worst = True              neg : pos    =      4.4 : 1.0\n",
      "                  stupid = True              neg : pos    =      4.3 : 1.0\n",
      "                    mess = True              neg : pos    =      3.8 : 1.0\n",
      "                  boring = True              neg : pos    =      3.8 : 1.0\n",
      "               memorable = True              pos : neg    =      3.6 : 1.0\n",
      "                    dull = True              neg : pos    =      3.5 : 1.0\n",
      "               realistic = True              pos : neg    =      3.4 : 1.0\n",
      "None\n",
      "Most Informative Features\n",
      "                   awful = True              neg : pos    =      7.6 : 1.0\n",
      "              ridiculous = True              neg : pos    =      7.3 : 1.0\n",
      "                   waste = True              neg : pos    =      5.5 : 1.0\n",
      "                   worst = True              neg : pos    =      4.8 : 1.0\n",
      "                    dull = True              neg : pos    =      4.6 : 1.0\n",
      "                    mess = True              neg : pos    =      4.2 : 1.0\n",
      "                  stupid = True              neg : pos    =      4.0 : 1.0\n",
      "               memorable = True              pos : neg    =      3.6 : 1.0\n",
      "               perfectly = True              pos : neg    =      3.5 : 1.0\n",
      "                  subtle = True              pos : neg    =      3.4 : 1.0\n",
      "None\n"
     ],
     "output_type": "stream"
    }
   ],
   "source": [
    "results\n",
    "\n",
    "for res in results:\n",
    "    classifier = res['classifier']\n",
    "    print (classifier.show_most_informative_features(10))    "
   ],
   "metadata": {
    "collapsed": false,
    "pycharm": {
     "name": "#%%\n",
     "is_executing": false
    }
   }
  }
 ],
 "metadata": {
  "kernelspec": {
   "display_name": "Python 3",
   "language": "python",
   "name": "python3"
  },
  "language_info": {
   "codemirror_mode": {
    "name": "ipython",
    "version": 2
   },
   "file_extension": ".py",
   "mimetype": "text/x-python",
   "name": "python",
   "nbconvert_exporter": "python",
   "pygments_lexer": "ipython2",
   "version": "2.7.6"
  },
  "pycharm": {
   "stem_cell": {
    "cell_type": "raw",
    "source": [],
    "metadata": {
     "collapsed": false
    }
   }
  }
 },
 "nbformat": 4,
 "nbformat_minor": 0
}